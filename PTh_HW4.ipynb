{
  "cells": [
    {
      "cell_type": "code",
      "execution_count": 1,
      "metadata": {
        "id": "uMIZxCTc6GP9"
      },
      "outputs": [],
      "source": [
        "from math import sqrt"
      ]
    },
    {
      "cell_type": "markdown",
      "metadata": {
        "id": "eQ-ffmDM6GQA"
      },
      "source": [
        "## Задача 1\n",
        "> Случайная непрерывная величина A имеет равномерное распределение на промежутке (200, 800].\n",
        "> Найдите ее среднее значение и дисперсию."
      ]
    },
    {
      "cell_type": "markdown",
      "metadata": {
        "id": "aIc88yS96GQD"
      },
      "source": [
        "$M(X) = \\frac{a + b}{2} =$"
      ]
    },
    {
      "cell_type": "code",
      "execution_count": 2,
      "metadata": {
        "colab": {
          "base_uri": "https://localhost:8080/"
        },
        "id": "beL-uiQ16GQD",
        "outputId": "656c6e3e-c190-4547-d45a-21a1c9ff76fc"
      },
      "outputs": [
        {
          "output_type": "execute_result",
          "data": {
            "text/plain": [
              "500.0"
            ]
          },
          "metadata": {},
          "execution_count": 2
        }
      ],
      "source": [
        "MX = (200 + 800) / 2\n",
        "MX"
      ]
    },
    {
      "cell_type": "markdown",
      "metadata": {
        "id": "1CVg_FjU6GQF"
      },
      "source": [
        "$D(X) = \\frac{(b - a)^2}{12} =$"
      ]
    },
    {
      "cell_type": "code",
      "execution_count": 3,
      "metadata": {
        "colab": {
          "base_uri": "https://localhost:8080/"
        },
        "id": "MlOW3XoZ6GQG",
        "outputId": "8cbdd6f5-8365-4532-d9e3-6080f4c4bb93"
      },
      "outputs": [
        {
          "output_type": "execute_result",
          "data": {
            "text/plain": [
              "30000.0"
            ]
          },
          "metadata": {},
          "execution_count": 3
        }
      ],
      "source": [
        "DX = (800 - 200) ** 2 / 12\n",
        "DX"
      ]
    },
    {
      "cell_type": "markdown",
      "metadata": {
        "id": "MSy4Baj16GQG"
      },
      "source": [
        "## Задача 2\n",
        "> О случайной непрерывной равномерно распределенной величине B известно, что ее дисперсия равна 0.2.\n",
        "> Можно ли найти правую границу величины B и ее среднее значение зная, что левая граница равна 0.5?\n",
        "> Если да, найдите ее.\n",
        "\n",
        "$D = \\frac{(b - a)^2}{12}$\n",
        "\n",
        "\n",
        "$b=a+\\sqrt{12D(X)}$  \n",
        "\n",
        "$D=0.2$  \n",
        "\n",
        "$a=0.5$\n",
        "\n",
        "$b=$\n"
      ]
    },
    {
      "cell_type": "code",
      "execution_count": 4,
      "metadata": {
        "colab": {
          "base_uri": "https://localhost:8080/"
        },
        "id": "kpd0Cg6f6GQH",
        "outputId": "1765e8f2-a862-469e-fca5-8f7243f8df01"
      },
      "outputs": [
        {
          "output_type": "execute_result",
          "data": {
            "text/plain": [
              "2.0492"
            ]
          },
          "metadata": {},
          "execution_count": 4
        }
      ],
      "source": [
        "a = 0.5\n",
        "b = a + sqrt(12 * 0.2)\n",
        "round(b,4)"
      ]
    },
    {
      "cell_type": "markdown",
      "metadata": {
        "id": "lZlpAozS6GQI"
      },
      "source": [
        "$M(X) = \\frac{a + b}{2}$"
      ]
    },
    {
      "cell_type": "code",
      "execution_count": 5,
      "metadata": {
        "colab": {
          "base_uri": "https://localhost:8080/"
        },
        "id": "gHm9u6q36GQI",
        "outputId": "47d3d32c-8a99-4a84-a9e0-4a1451320907"
      },
      "outputs": [
        {
          "output_type": "execute_result",
          "data": {
            "text/plain": [
              "1.2746"
            ]
          },
          "metadata": {},
          "execution_count": 5
        }
      ],
      "source": [
        "M = (a + b) / 2\n",
        "round(M,4)"
      ]
    },
    {
      "cell_type": "markdown",
      "metadata": {
        "id": "Nmi8YTW86GQJ"
      },
      "source": [
        "## Задача 3\n",
        "\n",
        "> Непрерывная случайная величина C распределена нормально и задана плотностью распределения\n",
        ">\n",
        "> $f(x)=\\frac{1}{4 \\sqrt{2\\pi}} e^{-\\frac{(x+2)^2}{32}}$\n",
        ">\n",
        "> Найдите:"
      ]
    },
    {
      "cell_type": "markdown",
      "metadata": {
        "id": "2zasm6O56GQK"
      },
      "source": [
        "### a)  M(X)\n",
        "\n",
        " В общем виде плотность нормального распределения имеет вид: $f(x) = \\frac{1}{\\sigma \\sqrt{2 \\pi}} e ^ {- \\frac{(x - a)^2}{2 \\sigma^2}},$\n",
        "\n",
        " где $a = M(X)$,\n",
        "\n",
        " следовательно: $M(X)=-2$\n",
        "\n",
        "### b) D(X)\n",
        "\n",
        "$D(X)=\\frac{32}{2}=16$\n",
        "\n",
        "### c) std(X)\n",
        "\n",
        "$\\sigma=\\sqrt{D(X)}=\\sqrt{16}=4$\n",
        "\n"
      ]
    },
    {
      "cell_type": "markdown",
      "metadata": {
        "id": "tSB9At6R6GQK"
      },
      "source": [
        "## Задача 4\n",
        "> Рост взрослого населения города X имеет нормальное распределение. Причем, средний рост равен 174 см, а среднее квадратичное отклонение равно 8 см.\n",
        "> Какова вероятность того, что случайным образом выбранный взрослый человек имеет рост:\n",
        ">\n",
        ">- больше 182 см?\n",
        ">- больше 190 см?\n",
        ">- от 166 см до 190 см?\n",
        ">- от 166 см до 182 см?\n",
        ">- от 158 см до 190 см?\n",
        ">- не выше 150 см и не ниже 190 см?\n",
        ">- не выше 150 см и не ниже 198 см?\n",
        ">- ниже 166 см?\n",
        "\n",
        "\n",
        "Используем формулу для нахождения вероятности попадания нормальной случайной величины в интервал:\n",
        "$$P(\\alpha<X<\\beta) = F_0\\left(\\frac{\\beta- a}{\\sigma}\\right) - F_0\\left(\\frac{\\alpha-a}{\\sigma}\\right)$$\n",
        "где $F_0(x)$ - нормализованая функция( значения берутся из таблицы)."
      ]
    },
    {
      "cell_type": "markdown",
      "metadata": {
        "id": "HR0qJd-N6GQL"
      },
      "source": [
        "### больше 182 см\n",
        "\n",
        "$P(182<X<\\infty)$  \n",
        "$P(X=\\infty)= 1$  \n",
        "$P(182<X<\\infty)=1-F_0\\left(\\frac{182 - 174}{8}\\right)=1-F_0(1)=1-0.8413=0.1587$  \n"
      ]
    },
    {
      "cell_type": "markdown",
      "metadata": {
        "id": "t-oqKbg66GQL"
      },
      "source": [
        "### больше 190 см\n",
        "\n",
        "$P(190<X<\\infty)$  \n",
        "$P(X=\\infty)= 1$  \n",
        "$P(190<X<\\infty)=1-F_0\\left(\\frac{190 - 174}{8}\\right)=1-F_0(2)=1-0.9772=0.0228$  \n"
      ]
    },
    {
      "cell_type": "markdown",
      "metadata": {
        "id": "2tjhsSCG6GQM"
      },
      "source": [
        "### от 166 см до 190 см\n",
        "\n",
        "$P(166<X<190) = F_0\\left(\\frac{190-174}{8}\\right) - F_0\\left(\\frac{166-174}{8}\\right)=F_0(2) - F_0(-1)=0.9772-0.1587=0.8185$  \n"
      ]
    },
    {
      "cell_type": "markdown",
      "metadata": {
        "id": "kC4EfL3e6GQM"
      },
      "source": [
        "### от 166 см до 182 см\n",
        "\n",
        "$P(166<X<182)=F_0\\left(\\frac{182-174}{8}\\right)-F_0\\left(\\frac{166-174}{8}\\right)=F_0(1) - F_0(-1)=0.8413 - 0.1587=0.6826$  \n"
      ]
    },
    {
      "cell_type": "markdown",
      "metadata": {
        "id": "3BJUXI236GQN"
      },
      "source": [
        "### от 158 см до 190 см\n",
        "\n",
        "$P(158<X<190) = F_0\\left(\\frac{190-174}{8}\\right) - F_0\\left(\\frac{158-174}{8}\\right)=F_0(2) - F_0(-2)=0.9772 - 0.0228 = 0.9544$  \n"
      ]
    },
    {
      "cell_type": "markdown",
      "metadata": {
        "id": "m-hlERiV6GQO"
      },
      "source": [
        "### не выше 150 см или не ниже 190 см\n",
        "\n",
        "$P(150<X<190) = F_0\\left(\\frac{190-174}{8}\\right)-F_0\\left(\\frac{150-174}{8}\\right)=F_0(2)-F_0(-3)=0.9772-0.0013 = 0.9759$  \n",
        "$1-0.9759  = 0.0241$  \n"
      ]
    },
    {
      "cell_type": "markdown",
      "metadata": {
        "id": "XCzVpkrn6GQO"
      },
      "source": [
        "### не выше 150 см или не ниже 198 см\n",
        "\n",
        "$P(150<X<198) = F_0\\left(\\frac{198-174}{8}\\right)-F_0\\left(\\frac{150-174}{8}\\right)=F_0(3)-F_0(-3)=0.9987-0.0013 = 0.9974$  \n",
        "$1-0.9974  = 0.0026$  \n"
      ]
    },
    {
      "cell_type": "markdown",
      "metadata": {
        "id": "9wIbtlIK6GQP"
      },
      "source": [
        "### ниже 166 см\n",
        "\n",
        "$P(0<X<166) = F_0\\left(\\frac{166-174}{8}\\right)=F_0(-1)=0.1587$  \n"
      ]
    },
    {
      "cell_type": "markdown",
      "metadata": {
        "id": "IO_qTg7w6GQP"
      },
      "source": [
        "## Задача 5\n",
        "> На сколько сигм (средних квадратичных отклонений) отклоняется рост человека, равный 190 см, от математического ожидания роста в популяции, в которой M(X) = 178 см и D(X) = 25 кв.см?"
      ]
    },
    {
      "cell_type": "code",
      "execution_count": 6,
      "metadata": {
        "colab": {
          "base_uri": "https://localhost:8080/"
        },
        "id": "kfttk7Jx6GQQ",
        "outputId": "38bab591-01d5-4c13-e38d-de1b4deaaec7"
      },
      "outputs": [
        {
          "output_type": "execute_result",
          "data": {
            "text/plain": [
              "2.4"
            ]
          },
          "metadata": {},
          "execution_count": 6
        }
      ],
      "source": [
        "z = (190 - 178) / sqrt(25)\n",
        "z"
      ]
    }
  ],
  "metadata": {
    "kernelspec": {
      "display_name": "Python 3",
      "language": "python",
      "name": "python3"
    },
    "language_info": {
      "codemirror_mode": {
        "name": "ipython",
        "version": 3
      },
      "file_extension": ".py",
      "mimetype": "text/x-python",
      "name": "python",
      "nbconvert_exporter": "python",
      "pygments_lexer": "ipython3",
      "version": "3.11.1"
    },
    "vscode": {
      "interpreter": {
        "hash": "867b719568835d2758971036323f4589e1a00f73e0a167b563d81825d1a5986e"
      }
    },
    "colab": {
      "provenance": []
    }
  },
  "nbformat": 4,
  "nbformat_minor": 0
}